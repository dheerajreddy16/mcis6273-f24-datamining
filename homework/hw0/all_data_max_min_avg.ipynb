{
  "metadata": {
    "kernelspec": {
      "name": "python",
      "display_name": "Python (Pyodide)",
      "language": "python"
    },
    "language_info": {
      "codemirror_mode": {
        "name": "python",
        "version": 3
      },
      "file_extension": ".py",
      "mimetype": "text/x-python",
      "name": "python",
      "nbconvert_exporter": "python",
      "pygments_lexer": "ipython3",
      "version": "3.8"
    }
  },
  "nbformat_minor": 4,
  "nbformat": 4,
  "cells": [
    {
      "cell_type": "code",
      "source": "import pandas as pd",
      "metadata": {
        "trusted": true
      },
      "outputs": [],
      "execution_count": 11
    },
    {
      "cell_type": "code",
      "source": "import json",
      "metadata": {
        "trusted": true
      },
      "outputs": [],
      "execution_count": 12
    },
    {
      "cell_type": "code",
      "source": "dataframe=pd.DataFrame()\nfor year in range(2008,2022):\n    fp=open('data/winter_{start_year}-{end_year}.json'.format(start_year=year,end_year=year+1))\n    fd=pd.json_normalize(json.load(fp)['results'])\n    dataframe=pd.concat([dataframe,fd])",
      "metadata": {
        "trusted": true
      },
      "outputs": [],
      "execution_count": 13
    },
    {
      "cell_type": "code",
      "source": "dataframe",
      "metadata": {
        "trusted": true
      },
      "outputs": [
        {
          "execution_count": 14,
          "output_type": "execute_result",
          "data": {
            "text/plain": "                    date datatype            station attributes    value\n0    2008-12-15T00:00:00     ADPT  GHCND:USW00003017       ,,W,   -244.0\n1    2008-12-15T00:00:00     ASLP  GHCND:USW00003017       ,,W,  10298.0\n2    2008-12-15T00:00:00     ASTP  GHCND:USW00003017       ,,W,   8324.0\n3    2008-12-15T00:00:00     AWBT  GHCND:USW00003017       ,,W,   -222.0\n4    2008-12-15T00:00:00     AWND  GHCND:USW00003017       ,,W,      4.7\n..                   ...      ...                ...        ...      ...\n695  2022-01-21T00:00:00     WDF2  GHCND:USW00003017       ,,W,     30.0\n696  2022-01-21T00:00:00     WDF5  GHCND:USW00003017       ,,W,     50.0\n697  2022-01-21T00:00:00     WSF2  GHCND:USW00003017       ,,W,     16.1\n698  2022-01-21T00:00:00     WSF5  GHCND:USW00003017       ,,W,     25.1\n699  2022-01-21T00:00:00     WT01  GHCND:USW00003017       ,,W,      1.0\n\n[9740 rows x 5 columns]",
            "text/html": "<div>\n<style scoped>\n    .dataframe tbody tr th:only-of-type {\n        vertical-align: middle;\n    }\n\n    .dataframe tbody tr th {\n        vertical-align: top;\n    }\n\n    .dataframe thead th {\n        text-align: right;\n    }\n</style>\n<table border=\"1\" class=\"dataframe\">\n  <thead>\n    <tr style=\"text-align: right;\">\n      <th></th>\n      <th>date</th>\n      <th>datatype</th>\n      <th>station</th>\n      <th>attributes</th>\n      <th>value</th>\n    </tr>\n  </thead>\n  <tbody>\n    <tr>\n      <th>0</th>\n      <td>2008-12-15T00:00:00</td>\n      <td>ADPT</td>\n      <td>GHCND:USW00003017</td>\n      <td>,,W,</td>\n      <td>-244.0</td>\n    </tr>\n    <tr>\n      <th>1</th>\n      <td>2008-12-15T00:00:00</td>\n      <td>ASLP</td>\n      <td>GHCND:USW00003017</td>\n      <td>,,W,</td>\n      <td>10298.0</td>\n    </tr>\n    <tr>\n      <th>2</th>\n      <td>2008-12-15T00:00:00</td>\n      <td>ASTP</td>\n      <td>GHCND:USW00003017</td>\n      <td>,,W,</td>\n      <td>8324.0</td>\n    </tr>\n    <tr>\n      <th>3</th>\n      <td>2008-12-15T00:00:00</td>\n      <td>AWBT</td>\n      <td>GHCND:USW00003017</td>\n      <td>,,W,</td>\n      <td>-222.0</td>\n    </tr>\n    <tr>\n      <th>4</th>\n      <td>2008-12-15T00:00:00</td>\n      <td>AWND</td>\n      <td>GHCND:USW00003017</td>\n      <td>,,W,</td>\n      <td>4.7</td>\n    </tr>\n    <tr>\n      <th>...</th>\n      <td>...</td>\n      <td>...</td>\n      <td>...</td>\n      <td>...</td>\n      <td>...</td>\n    </tr>\n    <tr>\n      <th>695</th>\n      <td>2022-01-21T00:00:00</td>\n      <td>WDF2</td>\n      <td>GHCND:USW00003017</td>\n      <td>,,W,</td>\n      <td>30.0</td>\n    </tr>\n    <tr>\n      <th>696</th>\n      <td>2022-01-21T00:00:00</td>\n      <td>WDF5</td>\n      <td>GHCND:USW00003017</td>\n      <td>,,W,</td>\n      <td>50.0</td>\n    </tr>\n    <tr>\n      <th>697</th>\n      <td>2022-01-21T00:00:00</td>\n      <td>WSF2</td>\n      <td>GHCND:USW00003017</td>\n      <td>,,W,</td>\n      <td>16.1</td>\n    </tr>\n    <tr>\n      <th>698</th>\n      <td>2022-01-21T00:00:00</td>\n      <td>WSF5</td>\n      <td>GHCND:USW00003017</td>\n      <td>,,W,</td>\n      <td>25.1</td>\n    </tr>\n    <tr>\n      <th>699</th>\n      <td>2022-01-21T00:00:00</td>\n      <td>WT01</td>\n      <td>GHCND:USW00003017</td>\n      <td>,,W,</td>\n      <td>1.0</td>\n    </tr>\n  </tbody>\n</table>\n<p>9740 rows × 5 columns</p>\n</div>"
          },
          "metadata": {}
        }
      ],
      "execution_count": 14
    },
    {
      "cell_type": "code",
      "source": "dataframe_tmax=dataframe.groupby('datatype').get_group('TMAX')[['date','value']].set_index('date')",
      "metadata": {
        "trusted": true
      },
      "outputs": [],
      "execution_count": 15
    },
    {
      "cell_type": "code",
      "source": "dataframe_tmax",
      "metadata": {
        "trusted": true
      },
      "outputs": [
        {
          "execution_count": 16,
          "output_type": "execute_result",
          "data": {
            "text/plain": "                     value\ndate                      \n2008-12-15T00:00:00    2.0\n2008-12-16T00:00:00   34.0\n2008-12-17T00:00:00   37.0\n2008-12-18T00:00:00   28.0\n2008-12-19T00:00:00   44.0\n...                    ...\n2022-01-17T00:00:00   62.0\n2022-01-18T00:00:00   58.0\n2022-01-19T00:00:00   31.0\n2022-01-20T00:00:00   39.0\n2022-01-21T00:00:00   36.0\n\n[516 rows x 1 columns]",
            "text/html": "<div>\n<style scoped>\n    .dataframe tbody tr th:only-of-type {\n        vertical-align: middle;\n    }\n\n    .dataframe tbody tr th {\n        vertical-align: top;\n    }\n\n    .dataframe thead th {\n        text-align: right;\n    }\n</style>\n<table border=\"1\" class=\"dataframe\">\n  <thead>\n    <tr style=\"text-align: right;\">\n      <th></th>\n      <th>value</th>\n    </tr>\n    <tr>\n      <th>date</th>\n      <th></th>\n    </tr>\n  </thead>\n  <tbody>\n    <tr>\n      <th>2008-12-15T00:00:00</th>\n      <td>2.0</td>\n    </tr>\n    <tr>\n      <th>2008-12-16T00:00:00</th>\n      <td>34.0</td>\n    </tr>\n    <tr>\n      <th>2008-12-17T00:00:00</th>\n      <td>37.0</td>\n    </tr>\n    <tr>\n      <th>2008-12-18T00:00:00</th>\n      <td>28.0</td>\n    </tr>\n    <tr>\n      <th>2008-12-19T00:00:00</th>\n      <td>44.0</td>\n    </tr>\n    <tr>\n      <th>...</th>\n      <td>...</td>\n    </tr>\n    <tr>\n      <th>2022-01-17T00:00:00</th>\n      <td>62.0</td>\n    </tr>\n    <tr>\n      <th>2022-01-18T00:00:00</th>\n      <td>58.0</td>\n    </tr>\n    <tr>\n      <th>2022-01-19T00:00:00</th>\n      <td>31.0</td>\n    </tr>\n    <tr>\n      <th>2022-01-20T00:00:00</th>\n      <td>39.0</td>\n    </tr>\n    <tr>\n      <th>2022-01-21T00:00:00</th>\n      <td>36.0</td>\n    </tr>\n  </tbody>\n</table>\n<p>516 rows × 1 columns</p>\n</div>"
          },
          "metadata": {}
        }
      ],
      "execution_count": 16
    },
    {
      "cell_type": "code",
      "source": "dataframe_tmin=dataframe.groupby('datatype').get_group('TMIN')[['date','value']].set_index('date')",
      "metadata": {
        "trusted": true
      },
      "outputs": [],
      "execution_count": 17
    },
    {
      "cell_type": "code",
      "source": "dataframe_tmin",
      "metadata": {
        "trusted": true
      },
      "outputs": [
        {
          "execution_count": 18,
          "output_type": "execute_result",
          "data": {
            "text/plain": "                     value\ndate                      \n2008-12-15T00:00:00  -19.0\n2008-12-16T00:00:00   -8.0\n2008-12-17T00:00:00   14.0\n2008-12-18T00:00:00    5.0\n2008-12-19T00:00:00   14.0\n...                    ...\n2022-01-17T00:00:00   24.0\n2022-01-18T00:00:00   24.0\n2022-01-19T00:00:00   17.0\n2022-01-20T00:00:00   16.0\n2022-01-21T00:00:00   16.0\n\n[516 rows x 1 columns]",
            "text/html": "<div>\n<style scoped>\n    .dataframe tbody tr th:only-of-type {\n        vertical-align: middle;\n    }\n\n    .dataframe tbody tr th {\n        vertical-align: top;\n    }\n\n    .dataframe thead th {\n        text-align: right;\n    }\n</style>\n<table border=\"1\" class=\"dataframe\">\n  <thead>\n    <tr style=\"text-align: right;\">\n      <th></th>\n      <th>value</th>\n    </tr>\n    <tr>\n      <th>date</th>\n      <th></th>\n    </tr>\n  </thead>\n  <tbody>\n    <tr>\n      <th>2008-12-15T00:00:00</th>\n      <td>-19.0</td>\n    </tr>\n    <tr>\n      <th>2008-12-16T00:00:00</th>\n      <td>-8.0</td>\n    </tr>\n    <tr>\n      <th>2008-12-17T00:00:00</th>\n      <td>14.0</td>\n    </tr>\n    <tr>\n      <th>2008-12-18T00:00:00</th>\n      <td>5.0</td>\n    </tr>\n    <tr>\n      <th>2008-12-19T00:00:00</th>\n      <td>14.0</td>\n    </tr>\n    <tr>\n      <th>...</th>\n      <td>...</td>\n    </tr>\n    <tr>\n      <th>2022-01-17T00:00:00</th>\n      <td>24.0</td>\n    </tr>\n    <tr>\n      <th>2022-01-18T00:00:00</th>\n      <td>24.0</td>\n    </tr>\n    <tr>\n      <th>2022-01-19T00:00:00</th>\n      <td>17.0</td>\n    </tr>\n    <tr>\n      <th>2022-01-20T00:00:00</th>\n      <td>16.0</td>\n    </tr>\n    <tr>\n      <th>2022-01-21T00:00:00</th>\n      <td>16.0</td>\n    </tr>\n  </tbody>\n</table>\n<p>516 rows × 1 columns</p>\n</div>"
          },
          "metadata": {}
        }
      ],
      "execution_count": 18
    },
    {
      "cell_type": "code",
      "source": "dataframe_tmax.rename(columns={'value':'TMAX'},inplace=True)",
      "metadata": {
        "trusted": true
      },
      "outputs": [],
      "execution_count": 20
    },
    {
      "cell_type": "code",
      "source": "dataframe_tmin.rename(columns={'value':'TMIN'},inplace=True)",
      "metadata": {
        "trusted": true
      },
      "outputs": [],
      "execution_count": 21
    },
    {
      "cell_type": "code",
      "source": "dataframe_tmax_tmin = pd.concat([dataframe_tmax,dataframe_tmin],axis=1)",
      "metadata": {
        "trusted": true
      },
      "outputs": [],
      "execution_count": 22
    },
    {
      "cell_type": "code",
      "source": "dataframe_tmax_tmin",
      "metadata": {
        "trusted": true
      },
      "outputs": [
        {
          "execution_count": 23,
          "output_type": "execute_result",
          "data": {
            "text/plain": "                     TMAX  TMIN\ndate                           \n2008-12-15T00:00:00   2.0 -19.0\n2008-12-16T00:00:00  34.0  -8.0\n2008-12-17T00:00:00  37.0  14.0\n2008-12-18T00:00:00  28.0   5.0\n2008-12-19T00:00:00  44.0  14.0\n...                   ...   ...\n2022-01-17T00:00:00  62.0  24.0\n2022-01-18T00:00:00  58.0  24.0\n2022-01-19T00:00:00  31.0  17.0\n2022-01-20T00:00:00  39.0  16.0\n2022-01-21T00:00:00  36.0  16.0\n\n[516 rows x 2 columns]",
            "text/html": "<div>\n<style scoped>\n    .dataframe tbody tr th:only-of-type {\n        vertical-align: middle;\n    }\n\n    .dataframe tbody tr th {\n        vertical-align: top;\n    }\n\n    .dataframe thead th {\n        text-align: right;\n    }\n</style>\n<table border=\"1\" class=\"dataframe\">\n  <thead>\n    <tr style=\"text-align: right;\">\n      <th></th>\n      <th>TMAX</th>\n      <th>TMIN</th>\n    </tr>\n    <tr>\n      <th>date</th>\n      <th></th>\n      <th></th>\n    </tr>\n  </thead>\n  <tbody>\n    <tr>\n      <th>2008-12-15T00:00:00</th>\n      <td>2.0</td>\n      <td>-19.0</td>\n    </tr>\n    <tr>\n      <th>2008-12-16T00:00:00</th>\n      <td>34.0</td>\n      <td>-8.0</td>\n    </tr>\n    <tr>\n      <th>2008-12-17T00:00:00</th>\n      <td>37.0</td>\n      <td>14.0</td>\n    </tr>\n    <tr>\n      <th>2008-12-18T00:00:00</th>\n      <td>28.0</td>\n      <td>5.0</td>\n    </tr>\n    <tr>\n      <th>2008-12-19T00:00:00</th>\n      <td>44.0</td>\n      <td>14.0</td>\n    </tr>\n    <tr>\n      <th>...</th>\n      <td>...</td>\n      <td>...</td>\n    </tr>\n    <tr>\n      <th>2022-01-17T00:00:00</th>\n      <td>62.0</td>\n      <td>24.0</td>\n    </tr>\n    <tr>\n      <th>2022-01-18T00:00:00</th>\n      <td>58.0</td>\n      <td>24.0</td>\n    </tr>\n    <tr>\n      <th>2022-01-19T00:00:00</th>\n      <td>31.0</td>\n      <td>17.0</td>\n    </tr>\n    <tr>\n      <th>2022-01-20T00:00:00</th>\n      <td>39.0</td>\n      <td>16.0</td>\n    </tr>\n    <tr>\n      <th>2022-01-21T00:00:00</th>\n      <td>36.0</td>\n      <td>16.0</td>\n    </tr>\n  </tbody>\n</table>\n<p>516 rows × 2 columns</p>\n</div>"
          },
          "metadata": {}
        }
      ],
      "execution_count": 23
    },
    {
      "cell_type": "code",
      "source": "dataframe_tavg=(dataframe_tmax_tmin['TMAX']+dataframe_tmax_tmin['TMIN'])/2",
      "metadata": {
        "trusted": true
      },
      "outputs": [],
      "execution_count": 24
    },
    {
      "cell_type": "code",
      "source": "dataframe_tmax_tmin['TAVG']=dataframe_tavg",
      "metadata": {
        "trusted": true
      },
      "outputs": [],
      "execution_count": 25
    },
    {
      "cell_type": "code",
      "source": "dataframe_tmax_tmin",
      "metadata": {
        "trusted": true
      },
      "outputs": [
        {
          "execution_count": 26,
          "output_type": "execute_result",
          "data": {
            "text/plain": "                     TMAX  TMIN  TAVG\ndate                                 \n2008-12-15T00:00:00   2.0 -19.0  -8.5\n2008-12-16T00:00:00  34.0  -8.0  13.0\n2008-12-17T00:00:00  37.0  14.0  25.5\n2008-12-18T00:00:00  28.0   5.0  16.5\n2008-12-19T00:00:00  44.0  14.0  29.0\n...                   ...   ...   ...\n2022-01-17T00:00:00  62.0  24.0  43.0\n2022-01-18T00:00:00  58.0  24.0  41.0\n2022-01-19T00:00:00  31.0  17.0  24.0\n2022-01-20T00:00:00  39.0  16.0  27.5\n2022-01-21T00:00:00  36.0  16.0  26.0\n\n[516 rows x 3 columns]",
            "text/html": "<div>\n<style scoped>\n    .dataframe tbody tr th:only-of-type {\n        vertical-align: middle;\n    }\n\n    .dataframe tbody tr th {\n        vertical-align: top;\n    }\n\n    .dataframe thead th {\n        text-align: right;\n    }\n</style>\n<table border=\"1\" class=\"dataframe\">\n  <thead>\n    <tr style=\"text-align: right;\">\n      <th></th>\n      <th>TMAX</th>\n      <th>TMIN</th>\n      <th>TAVG</th>\n    </tr>\n    <tr>\n      <th>date</th>\n      <th></th>\n      <th></th>\n      <th></th>\n    </tr>\n  </thead>\n  <tbody>\n    <tr>\n      <th>2008-12-15T00:00:00</th>\n      <td>2.0</td>\n      <td>-19.0</td>\n      <td>-8.5</td>\n    </tr>\n    <tr>\n      <th>2008-12-16T00:00:00</th>\n      <td>34.0</td>\n      <td>-8.0</td>\n      <td>13.0</td>\n    </tr>\n    <tr>\n      <th>2008-12-17T00:00:00</th>\n      <td>37.0</td>\n      <td>14.0</td>\n      <td>25.5</td>\n    </tr>\n    <tr>\n      <th>2008-12-18T00:00:00</th>\n      <td>28.0</td>\n      <td>5.0</td>\n      <td>16.5</td>\n    </tr>\n    <tr>\n      <th>2008-12-19T00:00:00</th>\n      <td>44.0</td>\n      <td>14.0</td>\n      <td>29.0</td>\n    </tr>\n    <tr>\n      <th>...</th>\n      <td>...</td>\n      <td>...</td>\n      <td>...</td>\n    </tr>\n    <tr>\n      <th>2022-01-17T00:00:00</th>\n      <td>62.0</td>\n      <td>24.0</td>\n      <td>43.0</td>\n    </tr>\n    <tr>\n      <th>2022-01-18T00:00:00</th>\n      <td>58.0</td>\n      <td>24.0</td>\n      <td>41.0</td>\n    </tr>\n    <tr>\n      <th>2022-01-19T00:00:00</th>\n      <td>31.0</td>\n      <td>17.0</td>\n      <td>24.0</td>\n    </tr>\n    <tr>\n      <th>2022-01-20T00:00:00</th>\n      <td>39.0</td>\n      <td>16.0</td>\n      <td>27.5</td>\n    </tr>\n    <tr>\n      <th>2022-01-21T00:00:00</th>\n      <td>36.0</td>\n      <td>16.0</td>\n      <td>26.0</td>\n    </tr>\n  </tbody>\n</table>\n<p>516 rows × 3 columns</p>\n</div>"
          },
          "metadata": {}
        }
      ],
      "execution_count": 26
    },
    {
      "cell_type": "code",
      "source": "l=[]\nfor act_date in dataframe_tmax_tmin.index:\n    l.append(act_date.split('T')[0])\ndataframe_tmax_tmin.index=l",
      "metadata": {
        "trusted": true
      },
      "outputs": [],
      "execution_count": 29
    },
    {
      "cell_type": "code",
      "source": "dataframe_tmax_tmin",
      "metadata": {
        "trusted": true
      },
      "outputs": [
        {
          "execution_count": 30,
          "output_type": "execute_result",
          "data": {
            "text/plain": "            TMAX  TMIN  TAVG\n2008-12-15   2.0 -19.0  -8.5\n2008-12-16  34.0  -8.0  13.0\n2008-12-17  37.0  14.0  25.5\n2008-12-18  28.0   5.0  16.5\n2008-12-19  44.0  14.0  29.0\n...          ...   ...   ...\n2022-01-17  62.0  24.0  43.0\n2022-01-18  58.0  24.0  41.0\n2022-01-19  31.0  17.0  24.0\n2022-01-20  39.0  16.0  27.5\n2022-01-21  36.0  16.0  26.0\n\n[516 rows x 3 columns]",
            "text/html": "<div>\n<style scoped>\n    .dataframe tbody tr th:only-of-type {\n        vertical-align: middle;\n    }\n\n    .dataframe tbody tr th {\n        vertical-align: top;\n    }\n\n    .dataframe thead th {\n        text-align: right;\n    }\n</style>\n<table border=\"1\" class=\"dataframe\">\n  <thead>\n    <tr style=\"text-align: right;\">\n      <th></th>\n      <th>TMAX</th>\n      <th>TMIN</th>\n      <th>TAVG</th>\n    </tr>\n  </thead>\n  <tbody>\n    <tr>\n      <th>2008-12-15</th>\n      <td>2.0</td>\n      <td>-19.0</td>\n      <td>-8.5</td>\n    </tr>\n    <tr>\n      <th>2008-12-16</th>\n      <td>34.0</td>\n      <td>-8.0</td>\n      <td>13.0</td>\n    </tr>\n    <tr>\n      <th>2008-12-17</th>\n      <td>37.0</td>\n      <td>14.0</td>\n      <td>25.5</td>\n    </tr>\n    <tr>\n      <th>2008-12-18</th>\n      <td>28.0</td>\n      <td>5.0</td>\n      <td>16.5</td>\n    </tr>\n    <tr>\n      <th>2008-12-19</th>\n      <td>44.0</td>\n      <td>14.0</td>\n      <td>29.0</td>\n    </tr>\n    <tr>\n      <th>...</th>\n      <td>...</td>\n      <td>...</td>\n      <td>...</td>\n    </tr>\n    <tr>\n      <th>2022-01-17</th>\n      <td>62.0</td>\n      <td>24.0</td>\n      <td>43.0</td>\n    </tr>\n    <tr>\n      <th>2022-01-18</th>\n      <td>58.0</td>\n      <td>24.0</td>\n      <td>41.0</td>\n    </tr>\n    <tr>\n      <th>2022-01-19</th>\n      <td>31.0</td>\n      <td>17.0</td>\n      <td>24.0</td>\n    </tr>\n    <tr>\n      <th>2022-01-20</th>\n      <td>39.0</td>\n      <td>16.0</td>\n      <td>27.5</td>\n    </tr>\n    <tr>\n      <th>2022-01-21</th>\n      <td>36.0</td>\n      <td>16.0</td>\n      <td>26.0</td>\n    </tr>\n  </tbody>\n</table>\n<p>516 rows × 3 columns</p>\n</div>"
          },
          "metadata": {}
        }
      ],
      "execution_count": 30
    },
    {
      "cell_type": "code",
      "source": "dataframe_tmax_tmin.to_csv(\"data/all_data_max_min_avg.csv\")",
      "metadata": {
        "trusted": true
      },
      "outputs": [],
      "execution_count": 31
    },
    {
      "cell_type": "code",
      "source": "",
      "metadata": {
        "trusted": true
      },
      "outputs": [],
      "execution_count": null
    }
  ]
}